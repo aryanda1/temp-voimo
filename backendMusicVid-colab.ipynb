{
  "cells": [
    {
      "cell_type": "code",
      "execution_count": null,
      "metadata": {
        "id": "cExoKbkYNkIS"
      },
      "outputs": [],
      "source": [
        "!git clone -b v2 https://github.com/aryanda1/voimo-backend2.git\n",
        "!mv voimo-backend2/* .\n",
        "!rm -rf voimo-backend2"
      ]
    },
    {
      "cell_type": "code",
      "execution_count": null,
      "metadata": {
        "colab": {
          "base_uri": "https://localhost:8080/"
        },
        "id": "hKjko92FNovT",
        "outputId": "b8057823-bb36-4073-a0a4-c4aa35608942"
      },
      "outputs": [],
      "source": [
        "from modelSetup import setup_environment,PathSetup,ModelSetup,upscaleSetup,downloadModel,createPaths\n",
        "from types import SimpleNamespace\n",
        "\n",
        "setup_environment()\n",
        "\n",
        "from helpers.model_load import make_linear_decode, load_model, get_model_output_paths\n",
        "\n",
        "downloadModel()\n",
        "\n",
        "root = SimpleNamespace(**PathSetup())\n",
        "root.models_path, root.output_path = get_model_output_paths(root)\n",
        "root.__dict__.update(ModelSetup())\n",
        "root.model, root.device = load_model(root, load_on_run_all=True, check_sha256=True, map_location=root.map_location)\n",
        "\n",
        "upscaleSetup()"
      ]
    },
    {
      "cell_type": "code",
      "execution_count": null,
      "metadata": {
        "colab": {
          "base_uri": "https://localhost:8080/"
        },
        "id": "lABy-VXeK86V",
        "outputId": "a1cb402c-30e6-45e1-9b08-2a11c4483fe5"
      },
      "outputs": [],
      "source": [
        "openai_api = input('Enter openai Api key')"
      ]
    },
    {
      "cell_type": "code",
      "execution_count": null,
      "metadata": {
        "id": "mYQ8SFlvMx_u"
      },
      "outputs": [],
      "source": [
        "from fastapi import FastAPI, Request, File, Form, BackgroundTasks\n",
        "from fastapi.responses import FileResponse\n",
        "from fastapi.middleware.cors import CORSMiddleware\n",
        "import sys\n",
        "import subprocess,glob,base64,mimetypes\n",
        "import os\n",
        "\n",
        "from mainOld import VideoCreator\n",
        "import time\n",
        "app = FastAPI()\n",
        "origins = [\"*\"]\n",
        "app.add_middleware(\n",
        "    CORSMiddleware,\n",
        "    allow_origins=origins,\n",
        "    allow_credentials=True,\n",
        "    allow_methods=[\"*\"],\n",
        "    allow_headers=[\"*\"],\n",
        ")\n",
        "\n",
        "VideoCreator.root = root\n",
        "VideoCreator.api_key = openai_api\n",
        "tasks = {}\n",
        "\n",
        "@app.get('/')\n",
        "async def home():\n",
        "  return {'mes':'Welcome!'}\n",
        "\n",
        "\n",
        "def creating_instance(output_dir, theme, artist, option, upscale,timestring):\n",
        "    video_creator = VideoCreator(output_dir, theme, artist, int(option), upscale,timestring)\n",
        "    tasks[timestring]['instance'] = video_creator\n",
        "    gen_sample_img(timestring)\n",
        "\n",
        "def gen_sample_img(task_id):\n",
        "    task = tasks[task_id]\n",
        "    task['instance'].gen_samples()\n",
        "    task['status']='samples_created'\n",
        "\n",
        "def gen_vid(task_id):\n",
        "    task = tasks[task_id]\n",
        "    vid_path = task['instance'].create_video_from_music()\n",
        "    task['status']='video_created'\n",
        "    task['vid_path'] = vid_path\n",
        "\n",
        "@app.post(\"/submit_form\")\n",
        "async def submit_form(background_tasks: BackgroundTasks,audio: bytes = File(...), artist: str = Form(''), theme: str = Form(''), option: str = Form(...), upscale: bool = Form(False)):\n",
        "    # Save audio to current directory\n",
        "    timestring = time.strftime('%Y%m%d%H%M%S')\n",
        "    output_dir = os.path.join(root.output_path,timestring)\n",
        "    createPaths(output_dir)\n",
        "    with open(os.path.join(output_dir, \"audio.wav\"), \"wb\") as f:\n",
        "        f.write(audio)\n",
        "\n",
        "    tasks[timestring] = {'status':'samples_processing'}\n",
        "    background_tasks.add_task(creating_instance,output_dir,theme,artist,option,upscale,timestring)\n",
        "    return {\"id\": timestring}\n",
        "\n",
        "@app.post('/gen_samples/{task_id}')\n",
        "async def gen_samples(background_tasks: BackgroundTasks,task_id:str):\n",
        "    if task_id in tasks and tasks[task_id]['status']!='samples_processing':\n",
        "        task = tasks[task_id]\n",
        "        task['status']='samples_processing'\n",
        "        background_tasks.add_task(gen_sample_img,task_id)\n",
        "        return {'message':'generating samples'}\n",
        "    else:\n",
        "        return {'error':'Task not found'}\n",
        "\n",
        "@app.post('/gen_video/{task_id}')\n",
        "async def gen_video(background_tasks: BackgroundTasks,task_id:str):\n",
        "    if task_id in tasks and tasks[task_id]['status']=='samples_created':\n",
        "        task = tasks[task_id]\n",
        "        task['status']='video_processing'\n",
        "        background_tasks.add_task(gen_vid,task_id)\n",
        "        return {'message':'generating video'}\n",
        "    else:\n",
        "        return {'error':'Task not found'}\n",
        "\n",
        "@app.post(\"/get_samples/{task_id}\")\n",
        "async def get_samples(task_id: str):\n",
        "    if task_id in tasks:\n",
        "        task = tasks[task_id]\n",
        "        status = task[\"status\"]\n",
        "        if status != \"samples_processing\":\n",
        "            directory = task['instance'].args.outdir\n",
        "            img_files = glob.glob(f'{directory}/*.png')\n",
        "            images = []\n",
        "            for img_file in img_files:\n",
        "                media_type, _ = mimetypes.guess_type(img_file)\n",
        "                with open(img_file, \"rb\") as file:\n",
        "                    content = base64.b64encode(file.read()).decode(\"utf-8\")\n",
        "\n",
        "                images.append({\n",
        "                    \"path\": img_file,\n",
        "                    \"media_type\": media_type,\n",
        "                    \"content\": content\n",
        "                })\n",
        "            return images\n",
        "        else:\n",
        "            return {\"status\": status}\n",
        "    else:\n",
        "        return {'error':'Task not found'}\n",
        "\n",
        "\n",
        "@app.post(\"/get_video/{task_id}\")\n",
        "async def get_video(task_id: str):\n",
        "    # Retrieve the result of the task from the task dictionary using the task ID\n",
        "    if task_id in tasks and tasks[task_id]['status'] in ['video_processing','video_created']:\n",
        "        task = tasks[task_id]\n",
        "        status = task[\"status\"]\n",
        "        if status == \"video_created\":\n",
        "            video_path = task[\"vid_path\"]\n",
        "            print(video_path)\n",
        "            filename = video_path.split('/')[-1]\n",
        "            headers = {\"Content-Disposition\": f'attachment; filename=\"{filename}\"'}\n",
        "            return FileResponse(video_path, headers=headers)\n",
        "        else:\n",
        "            return {\"status\": status}\n",
        "    else:\n",
        "        return {\"error\": \"Task not found\"}"
      ]
    },
    {
      "cell_type": "code",
      "execution_count": null,
      "metadata": {
        "colab": {
          "base_uri": "https://localhost:8080/"
        },
        "id": "XvcDjwsgM6ox",
        "outputId": "b2a1bd9a-03c1-4959-b59c-45bf56c471a5"
      },
      "outputs": [],
      "source": [
        "ngrok_auth = input('Enter Ngrok auth token: ')\n",
        "\n",
        "!ngrok authtoken $ngrok_auth"
      ]
    },
    {
      "cell_type": "code",
      "execution_count": null,
      "metadata": {
        "colab": {
          "base_uri": "https://localhost:8080/",
          "height": 639
        },
        "id": "YdX_EeIpM0Qh",
        "outputId": "488ab7ab-9cc8-4318-c7b8-d7bfaec17088"
      },
      "outputs": [],
      "source": [
        "import nest_asyncio\n",
        "from pyngrok import ngrok\n",
        "import uvicorn\n",
        "\n",
        "ngrok_tunnel = ngrok.connect(8000)\n",
        "print('Public URL:', ngrok_tunnel.public_url)\n",
        "nest_asyncio.apply()\n",
        "uvicorn.run(app, port=8000, timeout_keep_alive=3600)"
      ]
    },
    {
      "cell_type": "code",
      "execution_count": null,
      "metadata": {
        "id": "RugFKBPdKijY"
      },
      "outputs": [],
      "source": []
    }
  ],
  "metadata": {
    "accelerator": "GPU",
    "colab": {
      "provenance": []
    },
    "gpuClass": "standard",
    "kernelspec": {
      "display_name": "Python 3 (ipykernel)",
      "language": "python",
      "name": "python3"
    },
    "language_info": {
      "codemirror_mode": {
        "name": "ipython",
        "version": 3
      },
      "file_extension": ".py",
      "mimetype": "text/x-python",
      "name": "python",
      "nbconvert_exporter": "python",
      "pygments_lexer": "ipython3",
      "version": "3.8.10"
    }
  },
  "nbformat": 4,
  "nbformat_minor": 0
}
